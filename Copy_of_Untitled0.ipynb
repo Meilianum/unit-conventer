{
  "nbformat": 4,
  "nbformat_minor": 0,
  "metadata": {
    "colab": {
      "provenance": [],
      "authorship_tag": "ABX9TyMyReMHEzJDiULQud+wfAFY",
      "include_colab_link": true
    },
    "kernelspec": {
      "name": "python3",
      "display_name": "Python 3"
    },
    "language_info": {
      "name": "python"
    }
  },
  "cells": [
    {
      "cell_type": "markdown",
      "metadata": {
        "id": "view-in-github",
        "colab_type": "text"
      },
      "source": [
        "<a href=\"https://colab.research.google.com/github/Meilianum/unit-conventer/blob/main/Copy_of_Untitled0.ipynb\" target=\"_parent\"><img src=\"https://colab.research.google.com/assets/colab-badge.svg\" alt=\"Open In Colab\"/></a>"
      ]
    },
    {
      "cell_type": "code",
      "execution_count": null,
      "metadata": {
        "id": "q2TEJIAKDzB-"
      },
      "outputs": [],
      "source": [
        "class Assignment\n",
        "part 1!** ** Single quotes\n"
      ]
    },
    {
      "cell_type": "markdown",
      "source": [
        "class **Assignment**\n",
        "\n",
        "part 1!****\n",
        "** Single quotes**\n",
        "\n"
      ],
      "metadata": {
        "id": "UYwg0qCYE66_"
      }
    },
    {
      "cell_type": "markdown",
      "source": [
        "single_quote_string"
      ],
      "metadata": {
        "id": "3HbgQT8TFwSh"
      }
    },
    {
      "cell_type": "code",
      "source": [
        "\n",
        "print( 'This is a string using single quotes.')\n"
      ],
      "metadata": {
        "colab": {
          "base_uri": "https://localhost:8080/"
        },
        "id": "FFSunFUtEsqf",
        "outputId": "462ed10e-059a-434a-b69a-595a9a4febe1"
      },
      "execution_count": null,
      "outputs": [
        {
          "output_type": "stream",
          "name": "stdout",
          "text": [
            "This is a string using single quotes.\n"
          ]
        }
      ]
    },
    {
      "cell_type": "markdown",
      "source": [
        "\n",
        "\n"
      ],
      "metadata": {
        "id": "7m1jw7f8D0xV"
      }
    },
    {
      "cell_type": "markdown",
      "source": [
        "D0uble_quote_string"
      ],
      "metadata": {
        "id": "tXWbmlPPF2IG"
      }
    },
    {
      "cell_type": "code",
      "source": [
        "print(\"This is a string using double quotes.\")"
      ],
      "metadata": {
        "colab": {
          "base_uri": "https://localhost:8080/"
        },
        "id": "D9fjiCElF_70",
        "outputId": "306515b5-aaa6-4e20-b307-217689aed167"
      },
      "execution_count": null,
      "outputs": [
        {
          "output_type": "stream",
          "name": "stdout",
          "text": [
            "This is a string using double quotes.\n"
          ]
        }
      ]
    },
    {
      "cell_type": "markdown",
      "source": [
        "triple_quote_string"
      ],
      "metadata": {
        "id": "3KQhij6uGQif"
      }
    },
    {
      "cell_type": "code",
      "source": [
        "print(\"\"\"Twinkle, Twinkle, Little Star\n",
        "\n",
        "By Jane Taylor\n",
        "Twinkle, twinkle, little star,\n",
        "How I wonder what you are!\n",
        "Up above the world so high,\n",
        "Like a diamond in the sky.\n",
        "\n",
        "When the blazing sun is gone,\n",
        "When he nothing shines upon,\n",
        "Then you show your little light,\n",
        "Twinkle, twinkle, all the night.\n",
        "\n",
        "Then the traveler in the dark\n",
        "Thanks you for your tiny spark,\n",
        "How could he see where to go,\n",
        "If you did not twinkle so?\n",
        "\n",
        "In the dark blue sky you keep,\n",
        "Often through my curtains peep\n",
        "For you never shut your eye,\n",
        "Till the sun is in the sky.\n",
        "\n",
        "As your bright and tiny spark\n",
        "Lights the traveler in the dark,\n",
        "Though I know not what you are,\n",
        "Twinkle, twinkle, little star.\n",
        "\"\"\")"
      ],
      "metadata": {
        "colab": {
          "base_uri": "https://localhost:8080/"
        },
        "id": "jkj6ilE1E2RW",
        "outputId": "1dfd9df4-cb0a-4308-e7eb-d0cadafb700c"
      },
      "execution_count": null,
      "outputs": [
        {
          "output_type": "stream",
          "name": "stdout",
          "text": [
            "Twinkle, Twinkle, Little Star\n",
            "\n",
            "By Jane Taylor\n",
            "Twinkle, twinkle, little star,\n",
            "How I wonder what you are!\n",
            "Up above the world so high,\n",
            "Like a diamond in the sky.\n",
            "\n",
            "When the blazing sun is gone,\n",
            "When he nothing shines upon,\n",
            "Then you show your little light,\n",
            "Twinkle, twinkle, all the night.\n",
            "\n",
            "Then the traveler in the dark\n",
            "Thanks you for your tiny spark,\n",
            "How could he see where to go,\n",
            "If you did not twinkle so?\n",
            "\n",
            "In the dark blue sky you keep,\n",
            "Often through my curtains peep\n",
            "For you never shut your eye,\n",
            "Till the sun is in the sky.\n",
            "\n",
            "As your bright and tiny spark\n",
            "Lights the traveler in the dark,\n",
            "Though I know not what you are,\n",
            "Twinkle, twinkle, little star.\n",
            "\n"
          ]
        }
      ]
    },
    {
      "cell_type": "markdown",
      "source": [
        "Putting It All Together:\n",
        "\n"
      ],
      "metadata": {
        "id": "jUtdHsOXGq2j"
      }
    },
    {
      "cell_type": "code",
      "source": [
        "single_quote_string = 'This is a string using single quotes.'\n",
        "double_quote_string = \"This is a string using double quotes.\"\n",
        "triple_quote_string = \"\"\"This is a string using triple quotes.\"\"\"\n",
        "mixed_quotes_string = 'She said, \"I\\'m going to the store.\"'\n",
        "hobby_string = \"\"\"My favorite hobby is playing video games.\n",
        "I love exploring different game worlds, solving puzzles, and competing in online multiplayer matches.\n",
        "It's a fun and relaxing way for me to unwind after a long day.\"\"\"\n",
        "# Print all the strings to see the output\n",
        "print(single_quote_string)\n",
        "print(double_quote_string)\n",
        "print(triple_quote_string)\n",
        "print(mixed_quotes_string)\n",
        "print(hobby_string)\n"
      ],
      "metadata": {
        "colab": {
          "base_uri": "https://localhost:8080/"
        },
        "id": "EWjw3iwDHRok",
        "outputId": "76882dcd-7ec1-4d40-9599-369455a657bc"
      },
      "execution_count": null,
      "outputs": [
        {
          "output_type": "stream",
          "name": "stdout",
          "text": [
            "This is a string using single quotes.\n",
            "This is a string using double quotes.\n",
            "This is a string using triple quotes.\n",
            "She said, \"I'm going to the store.\"\n",
            "My favorite hobby is playing video games. \n",
            "I love exploring different game worlds, solving puzzles, and competing in online multiplayer matches. \n",
            "It's a fun and relaxing way for me to unwind after a long day.\n"
          ]
        }
      ]
    },
    {
      "cell_type": "markdown",
      "source": [
        "# ***parto2***"
      ],
      "metadata": {
        "id": "wAqF9hPnITKO"
      }
    },
    {
      "cell_type": "code",
      "source": [
        "full_name = \"Ruksana jahan\"\n",
        "print(full_name.upper())  # This will print the name in uppercase letters\n",
        "\n",
        "\n",
        "print(full_name.lower())  # This will print the name in lowercase letters\n",
        "print(full_name.title())   # This will capitalize the first letter of each word"
      ],
      "metadata": {
        "colab": {
          "base_uri": "https://localhost:8080/"
        },
        "id": "S1pM9RTXIY2E",
        "outputId": "997b306b-1e8f-4170-8500-f8cf7361be7f"
      },
      "execution_count": null,
      "outputs": [
        {
          "output_type": "stream",
          "name": "stdout",
          "text": [
            "RUKSANA JAHAN\n",
            "ruksana jahan\n",
            "Ruksana Jahan\n"
          ]
        }
      ]
    },
    {
      "cell_type": "code",
      "source": [
        "# Step 1: Create a variable with messy text\n",
        "messy_text = \" Python programming is fun! \"\n",
        "\n",
        "# Step 2: Remove all the extra spaces at the beginning and end\n",
        "clean_text = messy_text.strip()\n",
        "print(\"Cleaned Text:\", clean_text)  # Output: \"Python programming is fun!\"\n",
        "\n",
        "# Step 3: Replace \"fun\" with \"amazing\"\n",
        "modified_text = clean_text.replace(\"fun\", \"amazing\")\n",
        "print(\"Modified Text:\", modified_text)  # Output: \"Python programming is amazing!\"\n",
        "\n",
        "# Step 4: Count how many times the letter 'i' appears\n",
        "count_i = clean_text.count('i')\n",
        "print(\"Count of 'i':\", count_i)  # Output: 3\n"
      ],
      "metadata": {
        "colab": {
          "base_uri": "https://localhost:8080/"
        },
        "id": "IwVJn4cwKTFd",
        "outputId": "7421bbc3-c942-4bdb-f516-77274800105b"
      },
      "execution_count": null,
      "outputs": [
        {
          "output_type": "stream",
          "name": "stdout",
          "text": [
            "Cleaned Text: Python programming is fun!\n",
            "Modified Text: Python programming is amazing!\n",
            "Count of 'i': 2\n"
          ]
        }
      ]
    },
    {
      "cell_type": "code",
      "source": [
        "# Step 1: Create the sentence\n",
        "sentence = \"The quick brown fox jumps over the lazy dog\"\n",
        "\n",
        "# Step 2: Split the sentence into a list of words\n",
        "words_list = sentence.split()\n",
        "print(\"List of words:\", words_list)  # Output: ['The', 'quick', 'brown', 'fox', 'jumps', 'over', 'the', 'lazy', 'dog']\n",
        "\n",
        "# Step 3: Join the words back together with dashes between them\n",
        "sentence_with_dashes = \"-\".join(words_list)\n",
        "print(\"Sentence with dashes:\", sentence_with_dashes)  # Output: \"The-quick-brown-fox-jumps-over-the-lazy-dog\"\n",
        "\n",
        "# Step 4: Check if the sentence starts with \"The\"\n",
        "starts_with_the = sentence.startswith(\"The\")\n",
        "print(\"Starts with 'The':\", starts_with_the)  # Output: True\n",
        "\n",
        "# Step 5: Find the position of the word \"fox\"\n",
        "fox_position = words_list.index(\"fox\")\n",
        "print(\"Position of 'fox':\", fox_position)  # Output: 3\n"
      ],
      "metadata": {
        "colab": {
          "base_uri": "https://localhost:8080/"
        },
        "id": "u4fXpZGGLRcs",
        "outputId": "24e003ec-8ff8-484b-e0d6-c031ed84880e"
      },
      "execution_count": null,
      "outputs": [
        {
          "output_type": "stream",
          "name": "stdout",
          "text": [
            "List of words: ['The', 'quick', 'brown', 'fox', 'jumps', 'over', 'the', 'lazy', 'dog']\n",
            "Sentence with dashes: The-quick-brown-fox-jumps-over-the-lazy-dog\n",
            "Starts with 'The': True\n",
            "Position of 'fox': 3\n"
          ]
        }
      ]
    },
    {
      "cell_type": "markdown",
      "source": [
        "# ***Part 3: F-Strings***"
      ],
      "metadata": {
        "id": "GDhqOLt0Lebu"
      }
    },
    {
      "cell_type": "code",
      "source": [
        "# Step 1: Create variables\n",
        "your_name = \"Rukhsana\"  # Replace with your actual name\n",
        "your_age = 21  # Replace with your actual age\n",
        "favorite_language = \"Python\"  # Replace with your favorite programming language\n",
        "\n",
        "# Step 2: Use f-strings to create sentences\n",
        "sentence_1 = f\"My name is {your_name} and I am {your_age} years old.\"\n",
        "sentence_2 = f\"I enjoy programming in {favorite_language}, it's my favorite!\"\n",
        "sentence_3 = f\"In 5 years, I will be {your_age + 5} years old.\"\n",
        "\n",
        "# Print the sentences\n",
        "print(sentence_1)\n",
        "print(sentence_2)\n",
        "print(sentence_3)\n"
      ],
      "metadata": {
        "colab": {
          "base_uri": "https://localhost:8080/"
        },
        "id": "JW7JTAPwLj1u",
        "outputId": "81cd8fa5-69b6-48dd-fea9-6f5578c6e8dc"
      },
      "execution_count": null,
      "outputs": [
        {
          "output_type": "stream",
          "name": "stdout",
          "text": [
            "My name is Rukhsana and I am 21 years old.\n",
            "I enjoy programming in Python, it's my favorite!\n",
            "In 5 years, I will be 26 years old.\n"
          ]
        }
      ]
    },
    {
      "cell_type": "markdown",
      "source": [
        "# ***Part 4: Combining String Methods with F-Strings***"
      ],
      "metadata": {
        "id": "AY5xdDGPMHDM"
      }
    },
    {
      "cell_type": "code",
      "source": [
        "# Step 1: Ask for user input\n",
        "first_name = input(\"Enter your first name: \")\n",
        "last_name = input(\"Enter your last name: \")\n",
        "birth_year = int(input(\"Enter your birth year: \"))\n",
        "\n",
        "# Step 2: Use string methods to capitalize the first and last name\n",
        "first_name = first_name.capitalize()  # Capitalizes the first letter of the first name\n",
        "last_name = last_name.capitalize()    # Capitalizes the first letter of the last name\n",
        "\n",
        "# Step 3: Calculate the age\n",
        "from datetime import datetime\n",
        "current_year = datetime.now().year\n",
        "age = current_year - birth_year\n",
        "\n",
        "# Step 4: Create a username (first initial + last name + birth year)\n",
        "username = first_name[0].lower() + last_name.lower() + str(birth_year)\n",
        "\n",
        "# Step 5: Use f-strings to create a profile message\n",
        "profile_message = f\"Profile: {first_name} {last_name}, Age: {age}, Username: {username}\"\n",
        "\n",
        "# Print the profile message\n",
        "print(profile_message)\n"
      ],
      "metadata": {
        "colab": {
          "base_uri": "https://localhost:8080/"
        },
        "id": "r6v-KYsdMlJc",
        "outputId": "26dfbff4-1bfd-4292-8429-041635ce3a03"
      },
      "execution_count": null,
      "outputs": [
        {
          "output_type": "stream",
          "name": "stdout",
          "text": [
            "Enter your first name: Rukhsana\n",
            "Enter your last name: jahan\n",
            "Enter your birth year: 2004\n",
            "Profile: Rukhsana Jahan, Age: 21, Username: rjahan2004\n"
          ]
        }
      ]
    }
  ]
}